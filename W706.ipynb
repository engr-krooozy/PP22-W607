{
 "cells": [
  {
   "cell_type": "markdown",
   "id": "71a0df76",
   "metadata": {},
   "source": [
    "# Air Quality in Madrid (2001-2018)"
   ]
  },
  {
   "cell_type": "code",
   "execution_count": null,
   "id": "f06abe2f",
   "metadata": {},
   "outputs": [],
   "source": [
    "#important library\n",
    "import pandas as pd\n",
    "import glob\n",
    "import numpy as np\n",
    "import matplotlib.pyplot as plt\n",
    "import seaborn as sns\n",
    "\n",
    "%matplotlib inline "
   ]
  },
  {
   "cell_type": "code",
   "execution_count": 2,
   "id": "b37b00cf-dce5-46cc-8d9a-e257baec000b",
   "metadata": {},
   "outputs": [],
   "source": [
    "# loading all csv file names\n",
    "files = glob.glob(\"csvs_per_year/*.csv\")"
   ]
  },
  {
   "cell_type": "code",
   "execution_count": 3,
   "id": "437815c3-5e85-4488-b8ad-8a3f7bc2b104",
   "metadata": {},
   "outputs": [],
   "source": [
    "# reading csv files\n",
    "for index,file in enumerate(files):\n",
    "    files[index] = pd.read_csv(file,index_col='date',parse_dates=['date'])"
   ]
  },
  {
   "cell_type": "code",
   "execution_count": 4,
   "id": "5cd68c2a-7814-4261-bc5f-15a22e12f435",
   "metadata": {},
   "outputs": [],
   "source": [
    "# merging all csv files\n",
    "df = pd.concat(files)"
   ]
  },
  {
   "cell_type": "code",
   "execution_count": 12,
   "id": "e04c689e",
   "metadata": {},
   "outputs": [],
   "source": [
    "station_df = pd.read_csv('stations.csv') "
   ]
  },
  {
   "cell_type": "code",
   "execution_count": 5,
   "id": "0de0a81f-4c2d-4b8a-a50f-9cb57e4e15f4",
   "metadata": {
    "tags": []
   },
   "outputs": [
    {
     "name": "stdout",
     "output_type": "stream",
     "text": [
      "<class 'pandas.core.frame.DataFrame'>\n",
      "DatetimeIndex: 3808224 entries, 2001-08-01 01:00:00 to 2018-02-01 00:00:00\n",
      "Data columns (total 18 columns):\n",
      " #   Column   Dtype  \n",
      "---  ------   -----  \n",
      " 0   BEN      float64\n",
      " 1   CO       float64\n",
      " 2   EBE      float64\n",
      " 3   MXY      float64\n",
      " 4   NMHC     float64\n",
      " 5   NO_2     float64\n",
      " 6   NOx      float64\n",
      " 7   OXY      float64\n",
      " 8   O_3      float64\n",
      " 9   PM10     float64\n",
      " 10  PXY      float64\n",
      " 11  SO_2     float64\n",
      " 12  TCH      float64\n",
      " 13  TOL      float64\n",
      " 14  station  int64  \n",
      " 15  PM25     float64\n",
      " 16  NO       float64\n",
      " 17  CH4      float64\n",
      "dtypes: float64(17), int64(1)\n",
      "memory usage: 552.0 MB\n"
     ]
    }
   ],
   "source": [
    "df.info()"
   ]
  },
  {
   "cell_type": "code",
   "execution_count": 8,
   "id": "a0bdeb09-19e5-42ca-beb3-dfe0f307bbec",
   "metadata": {},
   "outputs": [
    {
     "data": {
      "text/html": [
       "<div>\n",
       "<style scoped>\n",
       "    .dataframe tbody tr th:only-of-type {\n",
       "        vertical-align: middle;\n",
       "    }\n",
       "\n",
       "    .dataframe tbody tr th {\n",
       "        vertical-align: top;\n",
       "    }\n",
       "\n",
       "    .dataframe thead th {\n",
       "        text-align: right;\n",
       "    }\n",
       "</style>\n",
       "<table border=\"1\" class=\"dataframe\">\n",
       "  <thead>\n",
       "    <tr style=\"text-align: right;\">\n",
       "      <th></th>\n",
       "      <th>BEN</th>\n",
       "      <th>CO</th>\n",
       "      <th>EBE</th>\n",
       "      <th>MXY</th>\n",
       "      <th>NMHC</th>\n",
       "      <th>NO_2</th>\n",
       "      <th>NOx</th>\n",
       "      <th>OXY</th>\n",
       "      <th>O_3</th>\n",
       "      <th>PM10</th>\n",
       "      <th>PXY</th>\n",
       "      <th>SO_2</th>\n",
       "      <th>TCH</th>\n",
       "      <th>TOL</th>\n",
       "      <th>station</th>\n",
       "      <th>PM25</th>\n",
       "      <th>NO</th>\n",
       "      <th>CH4</th>\n",
       "    </tr>\n",
       "    <tr>\n",
       "      <th>date</th>\n",
       "      <th></th>\n",
       "      <th></th>\n",
       "      <th></th>\n",
       "      <th></th>\n",
       "      <th></th>\n",
       "      <th></th>\n",
       "      <th></th>\n",
       "      <th></th>\n",
       "      <th></th>\n",
       "      <th></th>\n",
       "      <th></th>\n",
       "      <th></th>\n",
       "      <th></th>\n",
       "      <th></th>\n",
       "      <th></th>\n",
       "      <th></th>\n",
       "      <th></th>\n",
       "      <th></th>\n",
       "    </tr>\n",
       "  </thead>\n",
       "  <tbody>\n",
       "    <tr>\n",
       "      <th>2001-08-01 01:00:00</th>\n",
       "      <td>NaN</td>\n",
       "      <td>0.37</td>\n",
       "      <td>NaN</td>\n",
       "      <td>NaN</td>\n",
       "      <td>NaN</td>\n",
       "      <td>58.400002</td>\n",
       "      <td>87.150002</td>\n",
       "      <td>NaN</td>\n",
       "      <td>34.529999</td>\n",
       "      <td>105.000000</td>\n",
       "      <td>NaN</td>\n",
       "      <td>6.34</td>\n",
       "      <td>NaN</td>\n",
       "      <td>NaN</td>\n",
       "      <td>28079001</td>\n",
       "      <td>NaN</td>\n",
       "      <td>NaN</td>\n",
       "      <td>NaN</td>\n",
       "    </tr>\n",
       "    <tr>\n",
       "      <th>2001-08-01 01:00:00</th>\n",
       "      <td>1.5</td>\n",
       "      <td>0.34</td>\n",
       "      <td>1.49</td>\n",
       "      <td>4.1</td>\n",
       "      <td>0.07</td>\n",
       "      <td>56.250000</td>\n",
       "      <td>75.169998</td>\n",
       "      <td>2.11</td>\n",
       "      <td>42.160000</td>\n",
       "      <td>100.599998</td>\n",
       "      <td>1.73</td>\n",
       "      <td>8.11</td>\n",
       "      <td>1.24</td>\n",
       "      <td>10.82</td>\n",
       "      <td>28079035</td>\n",
       "      <td>NaN</td>\n",
       "      <td>NaN</td>\n",
       "      <td>NaN</td>\n",
       "    </tr>\n",
       "    <tr>\n",
       "      <th>2001-08-01 01:00:00</th>\n",
       "      <td>NaN</td>\n",
       "      <td>0.28</td>\n",
       "      <td>NaN</td>\n",
       "      <td>NaN</td>\n",
       "      <td>NaN</td>\n",
       "      <td>50.660000</td>\n",
       "      <td>61.380001</td>\n",
       "      <td>NaN</td>\n",
       "      <td>46.310001</td>\n",
       "      <td>100.099998</td>\n",
       "      <td>NaN</td>\n",
       "      <td>7.85</td>\n",
       "      <td>NaN</td>\n",
       "      <td>NaN</td>\n",
       "      <td>28079003</td>\n",
       "      <td>NaN</td>\n",
       "      <td>NaN</td>\n",
       "      <td>NaN</td>\n",
       "    </tr>\n",
       "    <tr>\n",
       "      <th>2001-08-01 01:00:00</th>\n",
       "      <td>NaN</td>\n",
       "      <td>0.47</td>\n",
       "      <td>NaN</td>\n",
       "      <td>NaN</td>\n",
       "      <td>NaN</td>\n",
       "      <td>69.790001</td>\n",
       "      <td>73.449997</td>\n",
       "      <td>NaN</td>\n",
       "      <td>40.650002</td>\n",
       "      <td>69.779999</td>\n",
       "      <td>NaN</td>\n",
       "      <td>6.46</td>\n",
       "      <td>NaN</td>\n",
       "      <td>NaN</td>\n",
       "      <td>28079004</td>\n",
       "      <td>NaN</td>\n",
       "      <td>NaN</td>\n",
       "      <td>NaN</td>\n",
       "    </tr>\n",
       "    <tr>\n",
       "      <th>2001-08-01 01:00:00</th>\n",
       "      <td>NaN</td>\n",
       "      <td>0.39</td>\n",
       "      <td>NaN</td>\n",
       "      <td>NaN</td>\n",
       "      <td>NaN</td>\n",
       "      <td>22.830000</td>\n",
       "      <td>24.799999</td>\n",
       "      <td>NaN</td>\n",
       "      <td>66.309998</td>\n",
       "      <td>75.180000</td>\n",
       "      <td>NaN</td>\n",
       "      <td>8.80</td>\n",
       "      <td>NaN</td>\n",
       "      <td>NaN</td>\n",
       "      <td>28079039</td>\n",
       "      <td>NaN</td>\n",
       "      <td>NaN</td>\n",
       "      <td>NaN</td>\n",
       "    </tr>\n",
       "  </tbody>\n",
       "</table>\n",
       "</div>"
      ],
      "text/plain": [
       "                     BEN    CO   EBE  MXY  NMHC       NO_2        NOx   OXY  \\\n",
       "date                                                                          \n",
       "2001-08-01 01:00:00  NaN  0.37   NaN  NaN   NaN  58.400002  87.150002   NaN   \n",
       "2001-08-01 01:00:00  1.5  0.34  1.49  4.1  0.07  56.250000  75.169998  2.11   \n",
       "2001-08-01 01:00:00  NaN  0.28   NaN  NaN   NaN  50.660000  61.380001   NaN   \n",
       "2001-08-01 01:00:00  NaN  0.47   NaN  NaN   NaN  69.790001  73.449997   NaN   \n",
       "2001-08-01 01:00:00  NaN  0.39   NaN  NaN   NaN  22.830000  24.799999   NaN   \n",
       "\n",
       "                           O_3        PM10   PXY  SO_2   TCH    TOL   station  \\\n",
       "date                                                                            \n",
       "2001-08-01 01:00:00  34.529999  105.000000   NaN  6.34   NaN    NaN  28079001   \n",
       "2001-08-01 01:00:00  42.160000  100.599998  1.73  8.11  1.24  10.82  28079035   \n",
       "2001-08-01 01:00:00  46.310001  100.099998   NaN  7.85   NaN    NaN  28079003   \n",
       "2001-08-01 01:00:00  40.650002   69.779999   NaN  6.46   NaN    NaN  28079004   \n",
       "2001-08-01 01:00:00  66.309998   75.180000   NaN  8.80   NaN    NaN  28079039   \n",
       "\n",
       "                     PM25  NO  CH4  \n",
       "date                                \n",
       "2001-08-01 01:00:00   NaN NaN  NaN  \n",
       "2001-08-01 01:00:00   NaN NaN  NaN  \n",
       "2001-08-01 01:00:00   NaN NaN  NaN  \n",
       "2001-08-01 01:00:00   NaN NaN  NaN  \n",
       "2001-08-01 01:00:00   NaN NaN  NaN  "
      ]
     },
     "execution_count": 8,
     "metadata": {},
     "output_type": "execute_result"
    }
   ],
   "source": [
    "df.head()"
   ]
  },
  {
   "cell_type": "markdown",
   "id": "4ff7f111",
   "metadata": {},
   "source": [
    "### Visualization of the station dataset"
   ]
  },
  {
   "cell_type": "code",
   "execution_count": 3,
   "id": "379f4d64",
   "metadata": {},
   "outputs": [
    {
     "data": {
      "text/html": [
       "<div>\n",
       "<style scoped>\n",
       "    .dataframe tbody tr th:only-of-type {\n",
       "        vertical-align: middle;\n",
       "    }\n",
       "\n",
       "    .dataframe tbody tr th {\n",
       "        vertical-align: top;\n",
       "    }\n",
       "\n",
       "    .dataframe thead th {\n",
       "        text-align: right;\n",
       "    }\n",
       "</style>\n",
       "<table border=\"1\" class=\"dataframe\">\n",
       "  <thead>\n",
       "    <tr style=\"text-align: right;\">\n",
       "      <th></th>\n",
       "      <th>id</th>\n",
       "      <th>name</th>\n",
       "      <th>address</th>\n",
       "      <th>lon</th>\n",
       "      <th>lat</th>\n",
       "      <th>elevation</th>\n",
       "    </tr>\n",
       "  </thead>\n",
       "  <tbody>\n",
       "    <tr>\n",
       "      <th>0</th>\n",
       "      <td>28079004</td>\n",
       "      <td>Pza. de España</td>\n",
       "      <td>Plaza de España</td>\n",
       "      <td>-3.712247</td>\n",
       "      <td>40.423853</td>\n",
       "      <td>635</td>\n",
       "    </tr>\n",
       "    <tr>\n",
       "      <th>1</th>\n",
       "      <td>28079008</td>\n",
       "      <td>Escuelas Aguirre</td>\n",
       "      <td>Entre C/ Alcalá y C/ O’ Donell</td>\n",
       "      <td>-3.682319</td>\n",
       "      <td>40.421564</td>\n",
       "      <td>670</td>\n",
       "    </tr>\n",
       "    <tr>\n",
       "      <th>2</th>\n",
       "      <td>28079011</td>\n",
       "      <td>Avda. Ramón y Cajal</td>\n",
       "      <td>Avda. Ramón y Cajal  esq. C/ Príncipe de Vergara</td>\n",
       "      <td>-3.677356</td>\n",
       "      <td>40.451475</td>\n",
       "      <td>708</td>\n",
       "    </tr>\n",
       "    <tr>\n",
       "      <th>3</th>\n",
       "      <td>28079016</td>\n",
       "      <td>Arturo Soria</td>\n",
       "      <td>C/ Arturo Soria  esq. C/  Vizconde de los Asilos</td>\n",
       "      <td>-3.639233</td>\n",
       "      <td>40.440047</td>\n",
       "      <td>693</td>\n",
       "    </tr>\n",
       "    <tr>\n",
       "      <th>4</th>\n",
       "      <td>28079017</td>\n",
       "      <td>Villaverde</td>\n",
       "      <td>C/. Juan Peñalver</td>\n",
       "      <td>-3.713322</td>\n",
       "      <td>40.347139</td>\n",
       "      <td>604</td>\n",
       "    </tr>\n",
       "  </tbody>\n",
       "</table>\n",
       "</div>"
      ],
      "text/plain": [
       "         id                 name  \\\n",
       "0  28079004       Pza. de España   \n",
       "1  28079008     Escuelas Aguirre   \n",
       "2  28079011  Avda. Ramón y Cajal   \n",
       "3  28079016         Arturo Soria   \n",
       "4  28079017           Villaverde   \n",
       "\n",
       "                                             address       lon        lat  \\\n",
       "0                                    Plaza de España -3.712247  40.423853   \n",
       "1                    Entre C/ Alcalá y C/ O’ Donell  -3.682319  40.421564   \n",
       "2   Avda. Ramón y Cajal  esq. C/ Príncipe de Vergara -3.677356  40.451475   \n",
       "3  C/ Arturo Soria  esq. C/  Vizconde de los Asilos  -3.639233  40.440047   \n",
       "4                                  C/. Juan Peñalver -3.713322  40.347139   \n",
       "\n",
       "   elevation  \n",
       "0        635  \n",
       "1        670  \n",
       "2        708  \n",
       "3        693  \n",
       "4        604  "
      ]
     },
     "execution_count": 3,
     "metadata": {},
     "output_type": "execute_result"
    }
   ],
   "source": [
    "station_df.head()"
   ]
  },
  {
   "cell_type": "code",
   "execution_count": 4,
   "id": "bcf4d34b",
   "metadata": {},
   "outputs": [
    {
     "name": "stdout",
     "output_type": "stream",
     "text": [
      "<class 'pandas.core.frame.DataFrame'>\n",
      "RangeIndex: 24 entries, 0 to 23\n",
      "Data columns (total 6 columns):\n",
      " #   Column     Non-Null Count  Dtype  \n",
      "---  ------     --------------  -----  \n",
      " 0   id         24 non-null     int64  \n",
      " 1   name       24 non-null     object \n",
      " 2   address    24 non-null     object \n",
      " 3   lon        24 non-null     float64\n",
      " 4   lat        24 non-null     float64\n",
      " 5   elevation  24 non-null     int64  \n",
      "dtypes: float64(2), int64(2), object(2)\n",
      "memory usage: 1.0+ KB\n"
     ]
    }
   ],
   "source": [
    "station_df.info()"
   ]
  },
  {
   "cell_type": "code",
   "execution_count": 5,
   "id": "e31969a2",
   "metadata": {},
   "outputs": [
    {
     "data": {
      "text/plain": [
       "<AxesSubplot:xlabel='elevation', ylabel='count'>"
      ]
     },
     "execution_count": 5,
     "metadata": {},
     "output_type": "execute_result"
    },
    {
     "data": {
      "image/png": "[encoded data removed]",
      "text/plain": [
       "<Figure size 432x288 with 1 Axes>"
      ]
     },
     "metadata": {
      "needs_background": "light"
     },
     "output_type": "display_data"
    }
   ],
   "source": [
    "sns.countplot(x = station_df['elevation'])"
   ]
  },
  {
   "cell_type": "code",
   "execution_count": 6,
   "id": "496a879b",
   "metadata": {},
   "outputs": [
    {
     "data": {
      "text/plain": [
       "<AxesSubplot:xlabel='lat'>"
      ]
     },
     "execution_count": 6,
     "metadata": {},
     "output_type": "execute_result"
    },
    {
     "data": {
      "image/png": "[encoded data removed]",
      "text/plain": [
       "<Figure size 432x288 with 1 Axes>"
      ]
     },
     "metadata": {
      "needs_background": "light"
     },
     "output_type": "display_data"
    }
   ],
   "source": [
    "sns.boxplot(x = station_df['lat'])"
   ]
  },
  {
   "cell_type": "code",
   "execution_count": 8,
   "id": "6e64af18",
   "metadata": {},
   "outputs": [
    {
     "data": {
      "text/plain": [
       "<AxesSubplot:xlabel='lon'>"
      ]
     },
     "execution_count": 8,
     "metadata": {},
     "output_type": "execute_result"
    },
    {
     "data": {
      "image/png": "[encoded data removed]",
      "text/plain": [
       "<Figure size 432x288 with 1 Axes>"
      ]
     },
     "metadata": {
      "needs_background": "light"
     },
     "output_type": "display_data"
    }
   ],
   "source": [
    "sns.boxplot(x = station_df['lon'])"
   ]
  },
  {
   "cell_type": "code",
   "execution_count": 9,
   "id": "851d1411",
   "metadata": {},
   "outputs": [
    {
     "data": {
      "text/plain": [
       "<matplotlib.collections.PathCollection at 0x3ce2950>"
      ]
     },
     "execution_count": 9,
     "metadata": {},
     "output_type": "execute_result"
    },
    {
     "data": {
      "image/png": "[encoded data removed]",
      "text/plain": [
       "<Figure size 432x288 with 1 Axes>"
      ]
     },
     "metadata": {
      "needs_background": "light"
     },
     "output_type": "display_data"
    }
   ],
   "source": [
    "plt.scatter(station_df['lat'], station_df['elevation'])"
   ]
  },
  {
   "cell_type": "code",
   "execution_count": 10,
   "id": "aaf6e900",
   "metadata": {},
   "outputs": [
    {
     "data": {
      "text/plain": [
       "<matplotlib.collections.PathCollection at 0x3d3c3f0>"
      ]
     },
     "execution_count": 10,
     "metadata": {},
     "output_type": "execute_result"
    },
    {
     "data": {
      "image/png": "[encoded data removed]",
      "text/plain": [
       "<Figure size 432x288 with 1 Axes>"
      ]
     },
     "metadata": {
      "needs_background": "light"
     },
     "output_type": "display_data"
    }
   ],
   "source": [
    "plt.scatter(station_df['lon'], station_df['elevation'])"
   ]
  },
  {
   "cell_type": "markdown",
   "id": "a3c32613",
   "metadata": {},
   "source": [
    "There is a weak positive correlation between the latitude and the elevation (they tend to rise together) meaning that areas with high latitude can be characterized with air quality such as lower oxygen, strong winds, frigid temperatures etc\n",
    "\n",
    "The above statement is also true for the longitude but the relationship between latitude and elevation is stronger than that of longitude and elevation."
   ]
  },
  {
   "cell_type": "code",
   "execution_count": null,
   "id": "d994a3fc",
   "metadata": {},
   "outputs": [],
   "source": []
  }
 ],
 "metadata": {
  "kernelspec": {
   "display_name": "Python 3",
   "language": "python",
   "name": "python3"
  },
  "language_info": {
   "codemirror_mode": {
    "name": "ipython",
    "version": 3
   },
   "file_extension": ".py",
   "mimetype": "text/x-python",
   "name": "python",
   "nbconvert_exporter": "python",
   "pygments_lexer": "ipython3",
   "version": "3.7.4"
  }
 },
 "nbformat": 4,
 "nbformat_minor": 5
}
